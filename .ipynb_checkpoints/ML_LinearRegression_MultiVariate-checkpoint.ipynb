{
 "cells": [
  {
   "cell_type": "markdown",
   "id": "53187bf0-d914-4e26-a048-76517a5b44c4",
   "metadata": {},
   "source": [
    "# LINEAR REGRESSION FOR MULTIPLE VARIABLES\n"
   ]
  },
  {
   "cell_type": "markdown",
   "id": "f60c6d09-f065-47ea-a66f-60e7f9845b5a",
   "metadata": {},
   "source": [
    "# Employee Attrition Prediction"
   ]
  },
  {
   "cell_type": "markdown",
   "id": "b5cf888d-e787-4aa5-a2f6-72273bc3778f",
   "metadata": {},
   "source": [
    "## Importing Relevant Packages"
   ]
  },
  {
   "cell_type": "code",
   "execution_count": 1,
   "id": "923f15aa-32a8-4421-b54a-92a2faa46c1c",
   "metadata": {},
   "outputs": [
    {
     "name": "stdout",
     "output_type": "stream",
     "text": [
      "Packages imported!\n"
     ]
    }
   ],
   "source": [
    "# Ignore a specific warning (e.g., DeprecationWarning)\n",
    "import warnings\n",
    "warnings.filterwarnings(\"ignore\", category=DeprecationWarning)\n",
    "\n",
    "# Import the pandas library as 'pd' for data manipulation and analysis\n",
    "import pandas as pd\n",
    "\n",
    "# Import the numpy library as 'np' for numerical operations and calculations\n",
    "import numpy as np\n",
    "\n",
    "# Import the matplotlib.pyplot library as 'plt' for data visualization\n",
    "import matplotlib.pyplot as plt\n",
    "\n",
    "# Import linear_model from the scikit-learn (sklearn) library for machine learning\n",
    "from sklearn import linear_model\n",
    "\n",
    "# Print a message to indicate that the necessary packages have been imported\n",
    "print(\"Packages imported!\")\n"
   ]
  },
  {
   "cell_type": "markdown",
   "id": "36c55c8a-ccb4-408d-8102-eae5429018c2",
   "metadata": {},
   "source": [
    "## Reading Dataset "
   ]
  },
  {
   "cell_type": "code",
   "execution_count": 2,
   "id": "1dd44471-b715-411f-81c7-c07fef9fa5f9",
   "metadata": {},
   "outputs": [
    {
     "data": {
      "text/html": [
       "<div>\n",
       "<style scoped>\n",
       "    .dataframe tbody tr th:only-of-type {\n",
       "        vertical-align: middle;\n",
       "    }\n",
       "\n",
       "    .dataframe tbody tr th {\n",
       "        vertical-align: top;\n",
       "    }\n",
       "\n",
       "    .dataframe thead th {\n",
       "        text-align: right;\n",
       "    }\n",
       "</style>\n",
       "<table border=\"1\" class=\"dataframe\">\n",
       "  <thead>\n",
       "    <tr style=\"text-align: right;\">\n",
       "      <th></th>\n",
       "      <th>area</th>\n",
       "      <th>bedrooms</th>\n",
       "      <th>age</th>\n",
       "      <th>price</th>\n",
       "    </tr>\n",
       "  </thead>\n",
       "  <tbody>\n",
       "    <tr>\n",
       "      <th>0</th>\n",
       "      <td>2600</td>\n",
       "      <td>3.0</td>\n",
       "      <td>20</td>\n",
       "      <td>550000</td>\n",
       "    </tr>\n",
       "    <tr>\n",
       "      <th>1</th>\n",
       "      <td>3000</td>\n",
       "      <td>4.0</td>\n",
       "      <td>15</td>\n",
       "      <td>565000</td>\n",
       "    </tr>\n",
       "    <tr>\n",
       "      <th>2</th>\n",
       "      <td>3200</td>\n",
       "      <td>NaN</td>\n",
       "      <td>18</td>\n",
       "      <td>610000</td>\n",
       "    </tr>\n",
       "    <tr>\n",
       "      <th>3</th>\n",
       "      <td>3600</td>\n",
       "      <td>3.0</td>\n",
       "      <td>30</td>\n",
       "      <td>595000</td>\n",
       "    </tr>\n",
       "    <tr>\n",
       "      <th>4</th>\n",
       "      <td>4000</td>\n",
       "      <td>5.0</td>\n",
       "      <td>8</td>\n",
       "      <td>760000</td>\n",
       "    </tr>\n",
       "    <tr>\n",
       "      <th>5</th>\n",
       "      <td>4100</td>\n",
       "      <td>6.0</td>\n",
       "      <td>8</td>\n",
       "      <td>810000</td>\n",
       "    </tr>\n",
       "  </tbody>\n",
       "</table>\n",
       "</div>"
      ],
      "text/plain": [
       "   area  bedrooms  age   price\n",
       "0  2600       3.0   20  550000\n",
       "1  3000       4.0   15  565000\n",
       "2  3200       NaN   18  610000\n",
       "3  3600       3.0   30  595000\n",
       "4  4000       5.0    8  760000\n",
       "5  4100       6.0    8  810000"
      ]
     },
     "execution_count": 2,
     "metadata": {},
     "output_type": "execute_result"
    }
   ],
   "source": [
    "# Define the file path to the CSV file containing the dataset\n",
    "path = \"homeprices.csv\"\n",
    "\n",
    "# Use pandas to read the data from the CSV file into a DataFrame named 'df'\n",
    "df = pd.read_csv(path)\n",
    "\n",
    "# Display the first few rows of the DataFrame to inspect the data\n",
    "df\n"
   ]
  },
  {
   "cell_type": "code",
   "execution_count": 3,
   "id": "34495cac-90f8-4438-909d-8b45f42d14a3",
   "metadata": {},
   "outputs": [
    {
     "name": "stdout",
     "output_type": "stream",
     "text": [
      "<class 'pandas.core.frame.DataFrame'>\n",
      "RangeIndex: 6 entries, 0 to 5\n",
      "Data columns (total 4 columns):\n",
      " #   Column    Non-Null Count  Dtype  \n",
      "---  ------    --------------  -----  \n",
      " 0   area      6 non-null      int64  \n",
      " 1   bedrooms  5 non-null      float64\n",
      " 2   age       6 non-null      int64  \n",
      " 3   price     6 non-null      int64  \n",
      "dtypes: float64(1), int64(3)\n",
      "memory usage: 324.0 bytes\n"
     ]
    }
   ],
   "source": [
    "# Display summary information about the DataFrame 'df,' including data types, non-null values, and memory usage\n",
    "df.info()\n"
   ]
  },
  {
   "cell_type": "markdown",
   "id": "5d5e3018-f180-41a8-91ac-dd551a4b3ccd",
   "metadata": {},
   "source": [
    "## Data Cleaning"
   ]
  },
  {
   "cell_type": "markdown",
   "id": "fbaf31cd-f96b-4361-a9b9-13435a76fd5f",
   "metadata": {},
   "source": [
    "Handling the missing values for bedrooms with median score"
   ]
  },
  {
   "cell_type": "code",
   "execution_count": 4,
   "id": "85ea2a41-6bb4-4a28-bde5-9fead6d61d5f",
   "metadata": {},
   "outputs": [
    {
     "data": {
      "text/html": [
       "<div>\n",
       "<style scoped>\n",
       "    .dataframe tbody tr th:only-of-type {\n",
       "        vertical-align: middle;\n",
       "    }\n",
       "\n",
       "    .dataframe tbody tr th {\n",
       "        vertical-align: top;\n",
       "    }\n",
       "\n",
       "    .dataframe thead th {\n",
       "        text-align: right;\n",
       "    }\n",
       "</style>\n",
       "<table border=\"1\" class=\"dataframe\">\n",
       "  <thead>\n",
       "    <tr style=\"text-align: right;\">\n",
       "      <th></th>\n",
       "      <th>area</th>\n",
       "      <th>bedrooms</th>\n",
       "      <th>age</th>\n",
       "      <th>price</th>\n",
       "    </tr>\n",
       "  </thead>\n",
       "  <tbody>\n",
       "    <tr>\n",
       "      <th>0</th>\n",
       "      <td>2600</td>\n",
       "      <td>3.0</td>\n",
       "      <td>20</td>\n",
       "      <td>550000</td>\n",
       "    </tr>\n",
       "    <tr>\n",
       "      <th>1</th>\n",
       "      <td>3000</td>\n",
       "      <td>4.0</td>\n",
       "      <td>15</td>\n",
       "      <td>565000</td>\n",
       "    </tr>\n",
       "    <tr>\n",
       "      <th>2</th>\n",
       "      <td>3200</td>\n",
       "      <td>4.0</td>\n",
       "      <td>18</td>\n",
       "      <td>610000</td>\n",
       "    </tr>\n",
       "    <tr>\n",
       "      <th>3</th>\n",
       "      <td>3600</td>\n",
       "      <td>3.0</td>\n",
       "      <td>30</td>\n",
       "      <td>595000</td>\n",
       "    </tr>\n",
       "    <tr>\n",
       "      <th>4</th>\n",
       "      <td>4000</td>\n",
       "      <td>5.0</td>\n",
       "      <td>8</td>\n",
       "      <td>760000</td>\n",
       "    </tr>\n",
       "    <tr>\n",
       "      <th>5</th>\n",
       "      <td>4100</td>\n",
       "      <td>6.0</td>\n",
       "      <td>8</td>\n",
       "      <td>810000</td>\n",
       "    </tr>\n",
       "  </tbody>\n",
       "</table>\n",
       "</div>"
      ],
      "text/plain": [
       "   area  bedrooms  age   price\n",
       "0  2600       3.0   20  550000\n",
       "1  3000       4.0   15  565000\n",
       "2  3200       4.0   18  610000\n",
       "3  3600       3.0   30  595000\n",
       "4  4000       5.0    8  760000\n",
       "5  4100       6.0    8  810000"
      ]
     },
     "execution_count": 4,
     "metadata": {},
     "output_type": "execute_result"
    }
   ],
   "source": [
    "median = df.bedrooms.median()\n",
    "\n",
    "df.bedrooms.fillna(median, inplace = True)\n",
    "df"
   ]
  },
  {
   "cell_type": "markdown",
   "id": "2dd9cf9e-1c6e-411e-8b2a-20b0a2499ef2",
   "metadata": {},
   "source": [
    "## Training LinearRegression Model"
   ]
  },
  {
   "cell_type": "code",
   "execution_count": 5,
   "id": "bee2637f-0e13-42b6-baca-9077ab22815f",
   "metadata": {},
   "outputs": [
    {
     "data": {
      "text/html": [
       "<style>#sk-container-id-1 {color: black;}#sk-container-id-1 pre{padding: 0;}#sk-container-id-1 div.sk-toggleable {background-color: white;}#sk-container-id-1 label.sk-toggleable__label {cursor: pointer;display: block;width: 100%;margin-bottom: 0;padding: 0.3em;box-sizing: border-box;text-align: center;}#sk-container-id-1 label.sk-toggleable__label-arrow:before {content: \"▸\";float: left;margin-right: 0.25em;color: #696969;}#sk-container-id-1 label.sk-toggleable__label-arrow:hover:before {color: black;}#sk-container-id-1 div.sk-estimator:hover label.sk-toggleable__label-arrow:before {color: black;}#sk-container-id-1 div.sk-toggleable__content {max-height: 0;max-width: 0;overflow: hidden;text-align: left;background-color: #f0f8ff;}#sk-container-id-1 div.sk-toggleable__content pre {margin: 0.2em;color: black;border-radius: 0.25em;background-color: #f0f8ff;}#sk-container-id-1 input.sk-toggleable__control:checked~div.sk-toggleable__content {max-height: 200px;max-width: 100%;overflow: auto;}#sk-container-id-1 input.sk-toggleable__control:checked~label.sk-toggleable__label-arrow:before {content: \"▾\";}#sk-container-id-1 div.sk-estimator input.sk-toggleable__control:checked~label.sk-toggleable__label {background-color: #d4ebff;}#sk-container-id-1 div.sk-label input.sk-toggleable__control:checked~label.sk-toggleable__label {background-color: #d4ebff;}#sk-container-id-1 input.sk-hidden--visually {border: 0;clip: rect(1px 1px 1px 1px);clip: rect(1px, 1px, 1px, 1px);height: 1px;margin: -1px;overflow: hidden;padding: 0;position: absolute;width: 1px;}#sk-container-id-1 div.sk-estimator {font-family: monospace;background-color: #f0f8ff;border: 1px dotted black;border-radius: 0.25em;box-sizing: border-box;margin-bottom: 0.5em;}#sk-container-id-1 div.sk-estimator:hover {background-color: #d4ebff;}#sk-container-id-1 div.sk-parallel-item::after {content: \"\";width: 100%;border-bottom: 1px solid gray;flex-grow: 1;}#sk-container-id-1 div.sk-label:hover label.sk-toggleable__label {background-color: #d4ebff;}#sk-container-id-1 div.sk-serial::before {content: \"\";position: absolute;border-left: 1px solid gray;box-sizing: border-box;top: 0;bottom: 0;left: 50%;z-index: 0;}#sk-container-id-1 div.sk-serial {display: flex;flex-direction: column;align-items: center;background-color: white;padding-right: 0.2em;padding-left: 0.2em;position: relative;}#sk-container-id-1 div.sk-item {position: relative;z-index: 1;}#sk-container-id-1 div.sk-parallel {display: flex;align-items: stretch;justify-content: center;background-color: white;position: relative;}#sk-container-id-1 div.sk-item::before, #sk-container-id-1 div.sk-parallel-item::before {content: \"\";position: absolute;border-left: 1px solid gray;box-sizing: border-box;top: 0;bottom: 0;left: 50%;z-index: -1;}#sk-container-id-1 div.sk-parallel-item {display: flex;flex-direction: column;z-index: 1;position: relative;background-color: white;}#sk-container-id-1 div.sk-parallel-item:first-child::after {align-self: flex-end;width: 50%;}#sk-container-id-1 div.sk-parallel-item:last-child::after {align-self: flex-start;width: 50%;}#sk-container-id-1 div.sk-parallel-item:only-child::after {width: 0;}#sk-container-id-1 div.sk-dashed-wrapped {border: 1px dashed gray;margin: 0 0.4em 0.5em 0.4em;box-sizing: border-box;padding-bottom: 0.4em;background-color: white;}#sk-container-id-1 div.sk-label label {font-family: monospace;font-weight: bold;display: inline-block;line-height: 1.2em;}#sk-container-id-1 div.sk-label-container {text-align: center;}#sk-container-id-1 div.sk-container {/* jupyter's `normalize.less` sets `[hidden] { display: none; }` but bootstrap.min.css set `[hidden] { display: none !important; }` so we also need the `!important` here to be able to override the default hidden behavior on the sphinx rendered scikit-learn.org. See: https://github.com/scikit-learn/scikit-learn/issues/21755 */display: inline-block !important;position: relative;}#sk-container-id-1 div.sk-text-repr-fallback {display: none;}</style><div id=\"sk-container-id-1\" class=\"sk-top-container\"><div class=\"sk-text-repr-fallback\"><pre>LinearRegression()</pre><b>In a Jupyter environment, please rerun this cell to show the HTML representation or trust the notebook. <br />On GitHub, the HTML representation is unable to render, please try loading this page with nbviewer.org.</b></div><div class=\"sk-container\" hidden><div class=\"sk-item\"><div class=\"sk-estimator sk-toggleable\"><input class=\"sk-toggleable__control sk-hidden--visually\" id=\"sk-estimator-id-1\" type=\"checkbox\" checked><label for=\"sk-estimator-id-1\" class=\"sk-toggleable__label sk-toggleable__label-arrow\">LinearRegression</label><div class=\"sk-toggleable__content\"><pre>LinearRegression()</pre></div></div></div></div></div>"
      ],
      "text/plain": [
       "LinearRegression()"
      ]
     },
     "execution_count": 5,
     "metadata": {},
     "output_type": "execute_result"
    }
   ],
   "source": [
    "\n",
    "# Select the independent variables (features) in 'X' by excluding the 'price' column\n",
    "X = [col for col in df.columns if col != 'price']\n",
    "\n",
    "# Define the dependent variable 'y' as the 'price' column\n",
    "y = df['price']\n",
    "\n",
    "# Create a LinearRegression model\n",
    "reg = linear_model.LinearRegression()\n",
    "\n",
    "# Fit the model using the selected independent variables 'X' and the dependent variable 'y'\n",
    "reg.fit(df[X], y)\n"
   ]
  },
  {
   "cell_type": "code",
   "execution_count": 6,
   "id": "5ef3bb96-6fe7-4de8-84c6-b9330be7faa0",
   "metadata": {},
   "outputs": [
    {
     "name": "stdin",
     "output_type": "stream",
     "text": [
      "Enter the area of the house:  3000\n",
      "How many bedrooms does the house have?  3\n",
      "How old is the house?  40\n"
     ]
    },
    {
     "name": "stdout",
     "output_type": "stream",
     "text": [
      "Predicted Price Value of the House is : 498408\n"
     ]
    },
    {
     "name": "stderr",
     "output_type": "stream",
     "text": [
      "C:\\Users\\user\\AppData\\Local\\Programs\\Python\\Python311\\Lib\\site-packages\\sklearn\\base.py:464: UserWarning: X does not have valid feature names, but LinearRegression was fitted with feature names\n",
      "  warnings.warn(\n"
     ]
    }
   ],
   "source": [
    "# Use the trained 'reg' Linear Regression model to predict a target variable.\n",
    "# Input features: 'Area', 'bedrooms', and 'age' for a specific data point.\n",
    "\n",
    "# Gather input from the user\n",
    "area = float(input(\"Enter the area of the house: \"))  # Convert input to float\n",
    "bedrooms = int(input(\"How many bedrooms does the house have? \"))  # Convert input to int\n",
    "age = int(input(\"How old is the house? \"))  # Convert input to int\n",
    "\n",
    "# Create an input feature list with the user-provided values\n",
    "input_features = [[area, bedrooms, age]]\n",
    "\n",
    "# Make the prediction using the trained model.\n",
    "predicted_value = reg.predict(input_features)\n",
    "predicted_value = int(predicted_value)\n",
    "# Print the predicted value, which is the estimated outcome.\n",
    "print(\"Predicted Price Value of the House is :\", predicted_value)\n"
   ]
  },
  {
   "cell_type": "code",
   "execution_count": 7,
   "id": "d1c37286-ccfb-472a-ac57-8562ca3bafec",
   "metadata": {},
   "outputs": [
    {
     "data": {
      "text/plain": [
       "array([  112.06244194, 23388.88007794, -3231.71790863])"
      ]
     },
     "execution_count": 7,
     "metadata": {},
     "output_type": "execute_result"
    }
   ],
   "source": [
    "# Access the coefficient (slope) of the linear regression model, which represents the relationship between the input feature and the target variable\n",
    "reg.coef_\n"
   ]
  },
  {
   "cell_type": "code",
   "execution_count": 8,
   "id": "4881bd80-d096-4e46-940f-396fa468e264",
   "metadata": {},
   "outputs": [
    {
     "data": {
      "text/plain": [
       "221323.0018654043"
      ]
     },
     "execution_count": 8,
     "metadata": {},
     "output_type": "execute_result"
    }
   ],
   "source": [
    "# Access the intercept (bias) term of the linear regression model, which represents the value of the target variable when the input feature is zero\n",
    "reg.intercept_\n"
   ]
  },
  {
   "cell_type": "markdown",
   "id": "84e83022-c32d-4eb5-bb73-422b663026c9",
   "metadata": {},
   "source": [
    "## Linear Regression Equation (MultiVariate)\n",
    "\n",
    "### y = m1* x1 + m2 * x2 + m3*x3 +  b\n",
    "\n",
    "### price =  area * 112.06244194 + bedrooms * 23388.88007794 + age *-3231.71790863 + 21323.0018654043"
   ]
  },
  {
   "cell_type": "code",
   "execution_count": null,
   "id": "133991c9-43e6-4c7d-830b-baad56c02ef0",
   "metadata": {},
   "outputs": [],
   "source": []
  }
 ],
 "metadata": {
  "kernelspec": {
   "display_name": "Python 3 (ipykernel)",
   "language": "python",
   "name": "python3"
  },
  "language_info": {
   "codemirror_mode": {
    "name": "ipython",
    "version": 3
   },
   "file_extension": ".py",
   "mimetype": "text/x-python",
   "name": "python",
   "nbconvert_exporter": "python",
   "pygments_lexer": "ipython3",
   "version": "3.11.4"
  }
 },
 "nbformat": 4,
 "nbformat_minor": 5
}
